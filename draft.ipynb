{
 "cells": [
  {
   "cell_type": "markdown",
   "metadata": {},
   "source": [
    "# Data Story Draft\n",
    "* Hugo Krijgsman (14667851)\n",
    "* Ingmar Hartman\n",
    "* Julius de Groot\n"
   ]
  },
  {
   "cell_type": "markdown",
   "metadata": {},
   "source": [
    "### Introduction\n",
    "The relationship between freedom and happiness is a crucial area of investigation, especially for informing the development of effective public policies. In Western society, there is a prevalent belief that increased freedom directly correlates with higher levels of happiness. This belief drives significant efforts to enhance personal and political freedoms. However, the reality is more complex. There are countries where people face greater limitations in their freedoms but still report high levels of happiness.\n",
    "\n",
    "This report utilizes two key datasets to explore the relationship between freedom and happiness. The first dataset, from the Human Freedom Index, measures various aspects of freedom including personal, civil, and economic dimensions. The second dataset, from the World Happiness Report, provides happiness scores based on indicators such as GDP per capita, social support, and life expectancy.\n",
    "\n",
    "By comparing these datasets, we aim to uncover correlations and patterns that reveal how different dimensions of freedom influence overall happiness across countries."
   ]
  }
 ],
 "metadata": {
  "language_info": {
   "name": "python"
  }
 },
 "nbformat": 4,
 "nbformat_minor": 2
}
